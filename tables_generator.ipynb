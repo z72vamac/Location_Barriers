{
 "cells": [
  {
   "cell_type": "code",
   "execution_count": 38,
   "metadata": {},
   "outputs": [],
   "source": [
    "import pandas as pd\n",
    "from IPython.display import Latex\n",
    "pd.set_option('display.max_colwidth', None)\n"
   ]
  },
  {
   "cell_type": "code",
   "execution_count": 41,
   "metadata": {},
   "outputs": [
    {
     "name": "stdout",
     "output_type": "stream",
     "text": [
      "\\begin{table}\n",
      "\\centering\n",
      "\\caption{Summary of decision variables used in the mathematical programming model}\n",
      "\\begin{tabular}{lll}\n",
      "\\toprule\n",
      "Binary and Integer Decision Variables \\\\\n",
      "                                 Name &                         Domain &                                                                                        Description \\\\\n",
      "\\midrule\n",
      "                                  $y$ &                   $\\mathcal S$ &                    1, if a facility is allocated in the source $S$ in the solution of the model,\\\\ \\\\\n",
      "                                  NaN &                            NaN &                                                                                      0, otherwise. \\\\\n",
      "                                  $x$ & $\\mathcal S \\times \\mathcal T$ & 1, if source $S$ and target $T$ are joined by a path in the solution of the model,\\\\ 0, otherwise. \\\\\n",
      "\\bottomrule\n",
      "\\end{tabular}\n",
      "\\end{table}\n",
      "\n"
     ]
    }
   ],
   "source": [
    "tabla = pd.read_excel('tabla.xlsx', header = [0, 1])\n",
    "\n",
    "replacements = [('\\$', '$'), ('\\\\textbackslash ', '\\\\')]\n",
    "\n",
    "caption = 'Summary of decision variables used in the mathematical programming model'\n",
    "\n",
    "\n",
    "tabla_antigua = tabla.to_latex(index = False, caption=caption)\n",
    "\n",
    "for old, new in replacements:\n",
    "    tabla_antigua = tabla_antigua.replace(old, new)\n",
    "\n",
    "print(tabla_antigua)"
   ]
  },
  {
   "cell_type": "code",
   "execution_count": null,
   "metadata": {},
   "outputs": [],
   "source": []
  }
 ],
 "metadata": {
  "kernelspec": {
   "display_name": "Python 3",
   "language": "python",
   "name": "python3"
  },
  "language_info": {
   "codemirror_mode": {
    "name": "ipython",
    "version": 3
   },
   "file_extension": ".py",
   "mimetype": "text/x-python",
   "name": "python",
   "nbconvert_exporter": "python",
   "pygments_lexer": "ipython3",
   "version": "3.9.2"
  }
 },
 "nbformat": 4,
 "nbformat_minor": 2
}
