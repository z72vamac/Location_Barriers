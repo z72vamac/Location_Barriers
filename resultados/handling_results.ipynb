{
 "cells": [
  {
   "cell_type": "code",
   "execution_count": 9,
   "metadata": {},
   "outputs": [],
   "source": [
    "import pandas as pd\n",
    "import seaborn as sns\n",
    "import matplotlib.pyplot as plt\n",
    "import numpy as np\n",
    "from scipy import stats\n",
    "import matplotlib\n",
    "\n",
    "pd.set_option('display.max_rows', 200)\n"
   ]
  },
  {
   "cell_type": "code",
   "execution_count": 139,
   "metadata": {},
   "outputs": [
    {
     "name": "stderr",
     "output_type": "stream",
     "text": [
      "C:\\Users\\G731\\AppData\\Local\\Temp/ipykernel_23624/303507592.py:18: FutureWarning: Series.fillna with 'method' is deprecated and will raise in a future version. Use obj.ffill() or obj.bfill() instead.\n",
      "  results.loc[results['init'] == True, 'Runtime_h2'] = results.loc[results['init']== True, 'Runtime_h2'].fillna(method='ffill', limit=1)\n",
      "C:\\Users\\G731\\AppData\\Local\\Temp/ipykernel_23624/303507592.py:20: FutureWarning: Series.fillna with 'method' is deprecated and will raise in a future version. Use obj.ffill() or obj.bfill() instead.\n",
      "  results.loc[results['init'] == True, 'NodeCount'] = results.loc[results['init']== True, 'NodeCount'].fillna(method='ffill', limit=1)\n"
     ]
    }
   ],
   "source": [
    "results0 = pd.read_csv('results_0.csv').iloc[:, 10:]\n",
    "results1 = pd.read_csv('results_1.csv').iloc[:, 10:]\n",
    "results2 = pd.read_csv('results_2.csv').iloc[:, 10:]\n",
    "results3 = pd.read_csv('results_3.csv').iloc[:, 10:]\n",
    "results4 = pd.read_csv('results_4.csv').iloc[:, 10:]\n",
    "\n",
    "parameters0 = pd.read_csv('parameters_0.csv').iloc[:, 2:]\n",
    "\n",
    "results0 = pd.concat([parameters0, results0], axis=1)\n",
    "results1 = pd.concat([parameters0, results1], axis=1)\n",
    "results2 = pd.concat([parameters0, results2], axis=1)\n",
    "results3 = pd.concat([parameters0, results3], axis=1)\n",
    "results4 = pd.concat([parameters0, results4], axis=1)\n",
    "\n",
    "results = pd.concat([results0, results1, results2, results3, results4])\n",
    "results['Gap'] *= 100\n",
    "results['ObjVal_h2'] = results[['ObjVal_h', 'ObjVal_h2']].min(axis=1)\n",
    "results.loc[results['init'] == True, 'Runtime_h2'] = results.loc[results['init']== True, 'Runtime_h2'].fillna(method='ffill', limit=1)\n",
    "results.loc[results['init'] == True, 'Runtime'] = results.loc[results['init']== True, 'Runtime'].fillna(3600)\n",
    "results.loc[results['init'] == True, 'NodeCount'] = results.loc[results['init']== True, 'NodeCount'].fillna(method='ffill', limit=1)\n",
    "results.loc[results['init'] == True, 'Gap'] = results.loc[results['init']== True, 'Gap'].fillna(100)\n",
    "\n",
    "results.to_csv('results_together.csv')\n",
    "\n",
    "\n",
    "\n"
   ]
  },
  {
   "cell_type": "code",
   "execution_count": 11,
   "metadata": {},
   "outputs": [],
   "source": [
    "valores = 100*np.array([0, 0.1, 0.2, 0.3, 0.4, 0.5, 0.6, 0.7, 0.8, 0.9, 1])\n",
    "results_noinit = results[results['init'] == False]['Gap']\n",
    "\n",
    "# interval_noinit = pd.cut(results_noinit, bins = valores)\n",
    "\n",
    "# noinit_freq_rel_acum = np.array(interval_noinit.value_counts(normalize=True, sort = False, dropna=False).cumsum())\n",
    "\n",
    "results_init = results[results['init'] == True]['Gap']\n",
    "\n",
    "# interval_init = pd.cut(results_init, bins = valores)\n",
    "\n",
    "# init_freq_rel_acum = np.array(interval_init.value_counts(normalize=True, sort = False, dropna=False).cumsum())\n",
    "\n",
    "# print(noinit_freq_rel_acum)\n",
    "# plt.step(valores[:-1], noinit_freq_rel_acum[:-1], label='no initialisation')\n",
    "# plt.step(valores[:-1], init_freq_rel_acum[:-1], label='initialisation')\n",
    "\n",
    "# plt.grid(axis='x', color='0.95')\n",
    "# plt.legend()\n",
    "\n",
    "# f = Fitter(results_init.dropna(),\n",
    "#            distributions= get_common_distributions())\n",
    "# f.fit()\n",
    "# f.summary()\n",
    "\n",
    "# f.get_best(method='sumsquare_error')"
   ]
  },
  {
   "cell_type": "code",
   "execution_count": 137,
   "metadata": {},
   "outputs": [
    {
     "data": {
      "text/html": [
       "<div>\n",
       "<style scoped>\n",
       "    .dataframe tbody tr th:only-of-type {\n",
       "        vertical-align: middle;\n",
       "    }\n",
       "\n",
       "    .dataframe tbody tr th {\n",
       "        vertical-align: top;\n",
       "    }\n",
       "\n",
       "    .dataframe thead th {\n",
       "        text-align: right;\n",
       "    }\n",
       "</style>\n",
       "<table border=\"1\" class=\"dataframe\">\n",
       "  <thead>\n",
       "    <tr style=\"text-align: right;\">\n",
       "      <th></th>\n",
       "      <th>n_N</th>\n",
       "      <th>single</th>\n",
       "      <th>perc_B</th>\n",
       "      <th>k</th>\n",
       "      <th>wL</th>\n",
       "      <th>init</th>\n",
       "      <th>Gap</th>\n",
       "      <th>Runtime</th>\n",
       "      <th>ObjVal</th>\n",
       "    </tr>\n",
       "  </thead>\n",
       "  <tbody>\n",
       "    <tr>\n",
       "      <th>0</th>\n",
       "      <td>10</td>\n",
       "      <td>False</td>\n",
       "      <td>10.0%</td>\n",
       "      <td>1</td>\n",
       "      <td>0</td>\n",
       "      <td>False</td>\n",
       "      <td>0.00</td>\n",
       "      <td>3.18</td>\n",
       "      <td>356.59</td>\n",
       "    </tr>\n",
       "    <tr>\n",
       "      <th>1</th>\n",
       "      <td>10</td>\n",
       "      <td>False</td>\n",
       "      <td>10.0%</td>\n",
       "      <td>1</td>\n",
       "      <td>0</td>\n",
       "      <td>True</td>\n",
       "      <td>0.01</td>\n",
       "      <td>1.55</td>\n",
       "      <td>356.60</td>\n",
       "    </tr>\n",
       "    <tr>\n",
       "      <th>2</th>\n",
       "      <td>10</td>\n",
       "      <td>False</td>\n",
       "      <td>10.0%</td>\n",
       "      <td>1</td>\n",
       "      <td>50</td>\n",
       "      <td>False</td>\n",
       "      <td>0.00</td>\n",
       "      <td>2.11</td>\n",
       "      <td>618.00</td>\n",
       "    </tr>\n",
       "    <tr>\n",
       "      <th>3</th>\n",
       "      <td>10</td>\n",
       "      <td>False</td>\n",
       "      <td>10.0%</td>\n",
       "      <td>1</td>\n",
       "      <td>50</td>\n",
       "      <td>True</td>\n",
       "      <td>0.00</td>\n",
       "      <td>1.65</td>\n",
       "      <td>618.00</td>\n",
       "    </tr>\n",
       "    <tr>\n",
       "      <th>4</th>\n",
       "      <td>10</td>\n",
       "      <td>False</td>\n",
       "      <td>10.0%</td>\n",
       "      <td>10%</td>\n",
       "      <td>0</td>\n",
       "      <td>False</td>\n",
       "      <td>0.00</td>\n",
       "      <td>3.13</td>\n",
       "      <td>356.59</td>\n",
       "    </tr>\n",
       "    <tr>\n",
       "      <th>...</th>\n",
       "      <td>...</td>\n",
       "      <td>...</td>\n",
       "      <td>...</td>\n",
       "      <td>...</td>\n",
       "      <td>...</td>\n",
       "      <td>...</td>\n",
       "      <td>...</td>\n",
       "      <td>...</td>\n",
       "      <td>...</td>\n",
       "    </tr>\n",
       "    <tr>\n",
       "      <th>475</th>\n",
       "      <td>70</td>\n",
       "      <td>True</td>\n",
       "      <td>50.0%</td>\n",
       "      <td>10%</td>\n",
       "      <td>50</td>\n",
       "      <td>True</td>\n",
       "      <td>81.29</td>\n",
       "      <td>3600.32</td>\n",
       "      <td>3190.12</td>\n",
       "    </tr>\n",
       "    <tr>\n",
       "      <th>476</th>\n",
       "      <td>70</td>\n",
       "      <td>True</td>\n",
       "      <td>50.0%</td>\n",
       "      <td>25%</td>\n",
       "      <td>0</td>\n",
       "      <td>False</td>\n",
       "      <td>NaN</td>\n",
       "      <td>NaN</td>\n",
       "      <td>NaN</td>\n",
       "    </tr>\n",
       "    <tr>\n",
       "      <th>477</th>\n",
       "      <td>70</td>\n",
       "      <td>True</td>\n",
       "      <td>50.0%</td>\n",
       "      <td>25%</td>\n",
       "      <td>0</td>\n",
       "      <td>True</td>\n",
       "      <td>81.59</td>\n",
       "      <td>3600.07</td>\n",
       "      <td>533.94</td>\n",
       "    </tr>\n",
       "    <tr>\n",
       "      <th>478</th>\n",
       "      <td>70</td>\n",
       "      <td>True</td>\n",
       "      <td>50.0%</td>\n",
       "      <td>25%</td>\n",
       "      <td>50</td>\n",
       "      <td>False</td>\n",
       "      <td>NaN</td>\n",
       "      <td>NaN</td>\n",
       "      <td>NaN</td>\n",
       "    </tr>\n",
       "    <tr>\n",
       "      <th>479</th>\n",
       "      <td>70</td>\n",
       "      <td>True</td>\n",
       "      <td>50.0%</td>\n",
       "      <td>25%</td>\n",
       "      <td>50</td>\n",
       "      <td>True</td>\n",
       "      <td>100.00</td>\n",
       "      <td>3600.00</td>\n",
       "      <td>NaN</td>\n",
       "    </tr>\n",
       "  </tbody>\n",
       "</table>\n",
       "<p>480 rows × 9 columns</p>\n",
       "</div>"
      ],
      "text/plain": [
       "     n_N  single perc_B    k  wL   init     Gap  Runtime   ObjVal\n",
       "0     10   False  10.0%    1   0  False    0.00     3.18   356.59\n",
       "1     10   False  10.0%    1   0   True    0.01     1.55   356.60\n",
       "2     10   False  10.0%    1  50  False    0.00     2.11   618.00\n",
       "3     10   False  10.0%    1  50   True    0.00     1.65   618.00\n",
       "4     10   False  10.0%  10%   0  False    0.00     3.13   356.59\n",
       "..   ...     ...    ...  ...  ..    ...     ...      ...      ...\n",
       "475   70    True  50.0%  10%  50   True   81.29  3600.32  3190.12\n",
       "476   70    True  50.0%  25%   0  False     NaN      NaN      NaN\n",
       "477   70    True  50.0%  25%   0   True   81.59  3600.07   533.94\n",
       "478   70    True  50.0%  25%  50  False     NaN      NaN      NaN\n",
       "479   70    True  50.0%  25%  50   True  100.00  3600.00      NaN\n",
       "\n",
       "[480 rows x 9 columns]"
      ]
     },
     "execution_count": 137,
     "metadata": {},
     "output_type": "execute_result"
    }
   ],
   "source": [
    "tabla_comparadora = results.groupby(['n_N', 'single', 'perc_B', 'k', 'wL', 'init']).mean()[['Gap', 'Runtime', 'ObjVal']].round(2).reset_index()\n",
    "tabla_comparadora"
   ]
  },
  {
   "cell_type": "markdown",
   "metadata": {},
   "source": [
    "Representamos la diferencia de gaps en funcion de $\\omega_L$"
   ]
  },
  {
   "cell_type": "code",
   "execution_count": 140,
   "metadata": {},
   "outputs": [
    {
     "name": "stderr",
     "output_type": "stream",
     "text": [
      "c:\\Users\\G731\\AppData\\Local\\Programs\\Python\\Python39\\lib\\site-packages\\seaborn\\_core.py:1218: FutureWarning: is_categorical_dtype is deprecated and will be removed in a future version. Use isinstance(dtype, CategoricalDtype) instead\n",
      "  if pd.api.types.is_categorical_dtype(vector):\n",
      "c:\\Users\\G731\\AppData\\Local\\Programs\\Python\\Python39\\lib\\site-packages\\seaborn\\_core.py:1218: FutureWarning: is_categorical_dtype is deprecated and will be removed in a future version. Use isinstance(dtype, CategoricalDtype) instead\n",
      "  if pd.api.types.is_categorical_dtype(vector):\n",
      "c:\\Users\\G731\\AppData\\Local\\Programs\\Python\\Python39\\lib\\site-packages\\seaborn\\_core.py:1218: FutureWarning: is_categorical_dtype is deprecated and will be removed in a future version. Use isinstance(dtype, CategoricalDtype) instead\n",
      "  if pd.api.types.is_categorical_dtype(vector):\n",
      "c:\\Users\\G731\\AppData\\Local\\Programs\\Python\\Python39\\lib\\site-packages\\seaborn\\_core.py:1218: FutureWarning: is_categorical_dtype is deprecated and will be removed in a future version. Use isinstance(dtype, CategoricalDtype) instead\n",
      "  if pd.api.types.is_categorical_dtype(vector):\n",
      "c:\\Users\\G731\\AppData\\Local\\Programs\\Python\\Python39\\lib\\site-packages\\seaborn\\_core.py:1218: FutureWarning: is_categorical_dtype is deprecated and will be removed in a future version. Use isinstance(dtype, CategoricalDtype) instead\n",
      "  if pd.api.types.is_categorical_dtype(vector):\n",
      "c:\\Users\\G731\\AppData\\Local\\Programs\\Python\\Python39\\lib\\site-packages\\seaborn\\_core.py:1218: FutureWarning: is_categorical_dtype is deprecated and will be removed in a future version. Use isinstance(dtype, CategoricalDtype) instead\n",
      "  if pd.api.types.is_categorical_dtype(vector):\n",
      "c:\\Users\\G731\\AppData\\Local\\Programs\\Python\\Python39\\lib\\site-packages\\seaborn\\_core.py:1218: FutureWarning: is_categorical_dtype is deprecated and will be removed in a future version. Use isinstance(dtype, CategoricalDtype) instead\n",
      "  if pd.api.types.is_categorical_dtype(vector):\n",
      "c:\\Users\\G731\\AppData\\Local\\Programs\\Python\\Python39\\lib\\site-packages\\seaborn\\_core.py:1218: FutureWarning: is_categorical_dtype is deprecated and will be removed in a future version. Use isinstance(dtype, CategoricalDtype) instead\n",
      "  if pd.api.types.is_categorical_dtype(vector):\n",
      "c:\\Users\\G731\\AppData\\Local\\Programs\\Python\\Python39\\lib\\site-packages\\seaborn\\_core.py:1218: FutureWarning: is_categorical_dtype is deprecated and will be removed in a future version. Use isinstance(dtype, CategoricalDtype) instead\n",
      "  if pd.api.types.is_categorical_dtype(vector):\n"
     ]
    },
    {
     "data": {
      "image/png": "[encoded data removed]",
      "text/plain": [
       "<Figure size 786.35x360 with 2 Axes>"
      ]
     },
     "metadata": {},
     "output_type": "display_data"
    }
   ],
   "source": [
    "g = sns.catplot(x='n_N', y='Gap', hue='single', col='wL', kind='box', data=results, aspect=1, sharey=True)\n",
    "\n",
    "sns.set(style=\"darkgrid\")\n",
    "\n",
    "import tikzplotlib\n",
    "\n",
    "matplotlib.rcParams['axes.unicode_minus'] = False\n",
    "\n",
    "tikzplotlib.save('difference_between_wL.tex', encoding='utf-8')\n"
   ]
  },
  {
   "cell_type": "markdown",
   "metadata": {},
   "source": [
    "Representamos el gap en funcion del porcentaje de barreras considerado"
   ]
  },
  {
   "cell_type": "code",
   "execution_count": 141,
   "metadata": {},
   "outputs": [
    {
     "name": "stderr",
     "output_type": "stream",
     "text": [
      "c:\\Users\\G731\\AppData\\Local\\Programs\\Python\\Python39\\lib\\site-packages\\seaborn\\_core.py:1218: FutureWarning: is_categorical_dtype is deprecated and will be removed in a future version. Use isinstance(dtype, CategoricalDtype) instead\n",
      "  if pd.api.types.is_categorical_dtype(vector):\n",
      "c:\\Users\\G731\\AppData\\Local\\Programs\\Python\\Python39\\lib\\site-packages\\seaborn\\_core.py:1218: FutureWarning: is_categorical_dtype is deprecated and will be removed in a future version. Use isinstance(dtype, CategoricalDtype) instead\n",
      "  if pd.api.types.is_categorical_dtype(vector):\n",
      "c:\\Users\\G731\\AppData\\Local\\Programs\\Python\\Python39\\lib\\site-packages\\seaborn\\_core.py:1218: FutureWarning: is_categorical_dtype is deprecated and will be removed in a future version. Use isinstance(dtype, CategoricalDtype) instead\n",
      "  if pd.api.types.is_categorical_dtype(vector):\n",
      "c:\\Users\\G731\\AppData\\Local\\Programs\\Python\\Python39\\lib\\site-packages\\seaborn\\_core.py:1218: FutureWarning: is_categorical_dtype is deprecated and will be removed in a future version. Use isinstance(dtype, CategoricalDtype) instead\n",
      "  if pd.api.types.is_categorical_dtype(vector):\n",
      "c:\\Users\\G731\\AppData\\Local\\Programs\\Python\\Python39\\lib\\site-packages\\seaborn\\_core.py:1218: FutureWarning: is_categorical_dtype is deprecated and will be removed in a future version. Use isinstance(dtype, CategoricalDtype) instead\n",
      "  if pd.api.types.is_categorical_dtype(vector):\n",
      "c:\\Users\\G731\\AppData\\Local\\Programs\\Python\\Python39\\lib\\site-packages\\seaborn\\_core.py:1218: FutureWarning: is_categorical_dtype is deprecated and will be removed in a future version. Use isinstance(dtype, CategoricalDtype) instead\n",
      "  if pd.api.types.is_categorical_dtype(vector):\n",
      "c:\\Users\\G731\\AppData\\Local\\Programs\\Python\\Python39\\lib\\site-packages\\seaborn\\_core.py:1218: FutureWarning: is_categorical_dtype is deprecated and will be removed in a future version. Use isinstance(dtype, CategoricalDtype) instead\n",
      "  if pd.api.types.is_categorical_dtype(vector):\n",
      "c:\\Users\\G731\\AppData\\Local\\Programs\\Python\\Python39\\lib\\site-packages\\seaborn\\_core.py:1218: FutureWarning: is_categorical_dtype is deprecated and will be removed in a future version. Use isinstance(dtype, CategoricalDtype) instead\n",
      "  if pd.api.types.is_categorical_dtype(vector):\n",
      "c:\\Users\\G731\\AppData\\Local\\Programs\\Python\\Python39\\lib\\site-packages\\seaborn\\_core.py:1218: FutureWarning: is_categorical_dtype is deprecated and will be removed in a future version. Use isinstance(dtype, CategoricalDtype) instead\n",
      "  if pd.api.types.is_categorical_dtype(vector):\n",
      "c:\\Users\\G731\\AppData\\Local\\Programs\\Python\\Python39\\lib\\site-packages\\seaborn\\_core.py:1218: FutureWarning: is_categorical_dtype is deprecated and will be removed in a future version. Use isinstance(dtype, CategoricalDtype) instead\n",
      "  if pd.api.types.is_categorical_dtype(vector):\n",
      "c:\\Users\\G731\\AppData\\Local\\Programs\\Python\\Python39\\lib\\site-packages\\seaborn\\_core.py:1218: FutureWarning: is_categorical_dtype is deprecated and will be removed in a future version. Use isinstance(dtype, CategoricalDtype) instead\n",
      "  if pd.api.types.is_categorical_dtype(vector):\n",
      "c:\\Users\\G731\\AppData\\Local\\Programs\\Python\\Python39\\lib\\site-packages\\seaborn\\_core.py:1218: FutureWarning: is_categorical_dtype is deprecated and will be removed in a future version. Use isinstance(dtype, CategoricalDtype) instead\n",
      "  if pd.api.types.is_categorical_dtype(vector):\n",
      "c:\\Users\\G731\\AppData\\Local\\Programs\\Python\\Python39\\lib\\site-packages\\seaborn\\_core.py:1218: FutureWarning: is_categorical_dtype is deprecated and will be removed in a future version. Use isinstance(dtype, CategoricalDtype) instead\n",
      "  if pd.api.types.is_categorical_dtype(vector):\n"
     ]
    },
    {
     "data": {
      "image/png": "[encoded data removed]",
      "text/plain": [
       "<Figure size 1506.35x360 with 4 Axes>"
      ]
     },
     "metadata": {},
     "output_type": "display_data"
    }
   ],
   "source": [
    "g = sns.catplot(x='n_N', y='Gap', hue='single', col='perc_B', kind='box', data=results, aspect=1, sharey=True)\n",
    "\n",
    "sns.set(style=\"darkgrid\")\n",
    "\n",
    "import tikzplotlib\n",
    "\n",
    "matplotlib.rcParams['axes.unicode_minus'] = False\n",
    "\n",
    "tikzplotlib.save('difference_between_perc_B.tex', encoding='utf-8')\n"
   ]
  },
  {
   "cell_type": "code",
   "execution_count": 142,
   "metadata": {},
   "outputs": [
    {
     "name": "stderr",
     "output_type": "stream",
     "text": [
      "c:\\Users\\G731\\AppData\\Local\\Programs\\Python\\Python39\\lib\\site-packages\\seaborn\\_core.py:1218: FutureWarning: is_categorical_dtype is deprecated and will be removed in a future version. Use isinstance(dtype, CategoricalDtype) instead\n",
      "  if pd.api.types.is_categorical_dtype(vector):\n",
      "c:\\Users\\G731\\AppData\\Local\\Programs\\Python\\Python39\\lib\\site-packages\\seaborn\\_core.py:1218: FutureWarning: is_categorical_dtype is deprecated and will be removed in a future version. Use isinstance(dtype, CategoricalDtype) instead\n",
      "  if pd.api.types.is_categorical_dtype(vector):\n",
      "c:\\Users\\G731\\AppData\\Local\\Programs\\Python\\Python39\\lib\\site-packages\\seaborn\\_core.py:1218: FutureWarning: is_categorical_dtype is deprecated and will be removed in a future version. Use isinstance(dtype, CategoricalDtype) instead\n",
      "  if pd.api.types.is_categorical_dtype(vector):\n",
      "c:\\Users\\G731\\AppData\\Local\\Programs\\Python\\Python39\\lib\\site-packages\\seaborn\\_core.py:1218: FutureWarning: is_categorical_dtype is deprecated and will be removed in a future version. Use isinstance(dtype, CategoricalDtype) instead\n",
      "  if pd.api.types.is_categorical_dtype(vector):\n",
      "c:\\Users\\G731\\AppData\\Local\\Programs\\Python\\Python39\\lib\\site-packages\\seaborn\\_core.py:1218: FutureWarning: is_categorical_dtype is deprecated and will be removed in a future version. Use isinstance(dtype, CategoricalDtype) instead\n",
      "  if pd.api.types.is_categorical_dtype(vector):\n",
      "c:\\Users\\G731\\AppData\\Local\\Programs\\Python\\Python39\\lib\\site-packages\\seaborn\\_core.py:1218: FutureWarning: is_categorical_dtype is deprecated and will be removed in a future version. Use isinstance(dtype, CategoricalDtype) instead\n",
      "  if pd.api.types.is_categorical_dtype(vector):\n",
      "c:\\Users\\G731\\AppData\\Local\\Programs\\Python\\Python39\\lib\\site-packages\\seaborn\\_core.py:1218: FutureWarning: is_categorical_dtype is deprecated and will be removed in a future version. Use isinstance(dtype, CategoricalDtype) instead\n",
      "  if pd.api.types.is_categorical_dtype(vector):\n",
      "c:\\Users\\G731\\AppData\\Local\\Programs\\Python\\Python39\\lib\\site-packages\\seaborn\\_core.py:1218: FutureWarning: is_categorical_dtype is deprecated and will be removed in a future version. Use isinstance(dtype, CategoricalDtype) instead\n",
      "  if pd.api.types.is_categorical_dtype(vector):\n",
      "c:\\Users\\G731\\AppData\\Local\\Programs\\Python\\Python39\\lib\\site-packages\\seaborn\\_core.py:1218: FutureWarning: is_categorical_dtype is deprecated and will be removed in a future version. Use isinstance(dtype, CategoricalDtype) instead\n",
      "  if pd.api.types.is_categorical_dtype(vector):\n"
     ]
    },
    {
     "data": {
      "image/png": "[encoded data removed]",
      "text/plain": [
       "<Figure size 786.35x360 with 2 Axes>"
      ]
     },
     "metadata": {},
     "output_type": "display_data"
    }
   ],
   "source": [
    "results_multi = results[results['single'] == False]\n",
    "\n",
    "dictionary = {}\n",
    "\n",
    "results['isnull'] = results.Gap.isnull()\n",
    "\n",
    "prop_nan = results.groupby(['n_N', 'init', 'isnull']).count().reset_index()\n",
    "\n",
    "g = sns.catplot(x='n_N', y='single', col='init', hue='isnull', kind='bar', data=prop_nan)\n",
    "# results.Gap.isnull().groupby(['n_N', 'single', 'perc_B', 'k', 'wL', 'init']).sum()/len(results)"
   ]
  },
  {
   "cell_type": "code",
   "execution_count": null,
   "metadata": {},
   "outputs": [],
   "source": [
    "# valores = [0, 400, 800, 1200, 1600, 2000, 2400, 2800, 3200, 3600, 4000]\n",
    "# results_noinit = results[results['init'] == False]['Runtime']\n",
    "\n",
    "# interval_noinit = pd.cut(results_noinit, bins = valores)\n",
    "\n",
    "# noinit_freq_rel_acum = np.array(interval_noinit.value_counts(normalize=True, sort = False, dropna=False).cumsum())\n",
    "\n",
    "# results_init = results[results['init'] == True]['Runtime']\n",
    "\n",
    "# interval_init = pd.cut(results_init, bins = valores)\n",
    "\n",
    "# init_freq_rel_acum = np.array(interval_init.value_counts(normalize=True, sort = False, dropna=False).cumsum())\n",
    "\n",
    "# print(noinit_freq_rel_acum)\n",
    "# plt.step(valores[:-1], noinit_freq_rel_acum[:-1], label='no initialisation')\n",
    "# plt.step(valores[:-1], init_freq_rel_acum[:-1], label='initialisation')\n",
    "\n",
    "# plt.grid(axis='x', color='0.95')\n",
    "# plt.legend()\n"
   ]
  }
 ],
 "metadata": {
  "kernelspec": {
   "display_name": "Python 3",
   "language": "python",
   "name": "python3"
  },
  "language_info": {
   "codemirror_mode": {
    "name": "ipython",
    "version": 3
   },
   "file_extension": ".py",
   "mimetype": "text/x-python",
   "name": "python",
   "nbconvert_exporter": "python",
   "pygments_lexer": "ipython3",
   "version": "3.9.2"
  }
 },
 "nbformat": 4,
 "nbformat_minor": 2
}
