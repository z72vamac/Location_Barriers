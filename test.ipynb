{
 "cells": [
  {
   "cell_type": "code",
   "execution_count": 23,
   "metadata": {},
   "outputs": [],
   "source": [
    "import gurobipy as gp\n",
    "from gurobipy import GRB\n",
    "import numpy as np\n",
    "from itertools import product, permutations, chain\n",
    "import random\n",
    "import matplotlib.pyplot as plt\n",
    "# from matplotlib.patches import Circle, Polygon\n",
    "from matplotlib.collections import PatchCollection\n",
    "from data import *\n",
    "import neighborhood as neigh\n",
    "import copy\n",
    "import estimacion_M as eM\n",
    "import auxiliar_functions as af\n",
    "import networkx as nx\n",
    "import itertools\n",
    "\n",
    "from sflpn_b import sflpn_b\n",
    "from h_kmedian_new import h_kmedian_n"
   ]
  },
  {
   "cell_type": "code",
   "execution_count": 24,
   "metadata": {},
   "outputs": [
    {
     "ename": "NameError",
     "evalue": "name 'point_index' is not defined",
     "output_type": "error",
     "traceback": [
      "\u001b[1;31m---------------------------------------------------------------------------\u001b[0m",
      "\u001b[1;31mNameError\u001b[0m                                 Traceback (most recent call last)",
      "\u001b[1;32m~\\AppData\\Local\\Temp/ipykernel_4460/2635155047.py\u001b[0m in \u001b[0;36m<module>\u001b[1;34m\u001b[0m\n\u001b[0;32m     34\u001b[0m \u001b[1;32mfor\u001b[0m \u001b[0ma\u001b[0m\u001b[1;33m,\u001b[0m \u001b[0mb\u001b[0m \u001b[1;32min\u001b[0m \u001b[0mvertices_source\u001b[0m\u001b[1;33m+\u001b[0m\u001b[0mvertices_target\u001b[0m\u001b[1;33m:\u001b[0m\u001b[1;33m\u001b[0m\u001b[1;33m\u001b[0m\u001b[0m\n\u001b[0;32m     35\u001b[0m     \u001b[1;32mfor\u001b[0m \u001b[0mdim\u001b[0m \u001b[1;32min\u001b[0m \u001b[0mrange\u001b[0m\u001b[1;33m(\u001b[0m\u001b[1;36m2\u001b[0m\u001b[1;33m)\u001b[0m\u001b[1;33m:\u001b[0m\u001b[1;33m\u001b[0m\u001b[1;33m\u001b[0m\u001b[0m\n\u001b[1;32m---> 36\u001b[1;33m         \u001b[0mpoint_index\u001b[0m\u001b[1;33m.\u001b[0m\u001b[0mappend\u001b[0m\u001b[1;33m(\u001b[0m\u001b[1;33m(\u001b[0m\u001b[0ma\u001b[0m\u001b[1;33m,\u001b[0m \u001b[0mb\u001b[0m\u001b[1;33m,\u001b[0m \u001b[0mdim\u001b[0m\u001b[1;33m)\u001b[0m\u001b[1;33m)\u001b[0m\u001b[1;33m\u001b[0m\u001b[1;33m\u001b[0m\u001b[0m\n\u001b[0m",
      "\u001b[1;31mNameError\u001b[0m: name 'point_index' is not defined"
     ]
    }
   ],
   "source": [
    "blocks = [9]\n",
    "barriers = []\n",
    "sources = []\n",
    "targets = []\n",
    "\n",
    "for i in blocks:\n",
    "\n",
    "    segments = np.genfromtxt('./instances_casestudy/barriers/barriers{0}.csv'.format(i), delimiter = ',')\n",
    "\n",
    "    for lista in segments:\n",
    "        barriers.append([[lista[0], lista[1]], [lista[2], lista[3]]])\n",
    "\n",
    "    neighbourhoods = np.genfromtxt('./instances_casestudy/circles/sources/circles{0}.csv'.format(i), delimiter = ',')\n",
    "\n",
    "    for x_coord, y_coord, radii in neighbourhoods:\n",
    "        sources.append(neigh.Circle(center = [x_coord, y_coord], radii = radii, col='blue'))\n",
    "\n",
    "    neighbourhoods = np.genfromtxt('./instances_casestudy/circles/targets/circles{0}.csv'.format(i), delimiter = ',')\n",
    "\n",
    "    for x_coord, y_coord, radii in neighbourhoods:\n",
    "        targets.append(neigh.Circle(center = [x_coord, y_coord], radii = radii, col=\"green\"))\n",
    "\n",
    "# Indices of the vertices identified with the sources\n",
    "vertices_source = list(itertools.product(range(1, len(sources) + 1), range(1)))\n",
    "\n",
    "# Indices of the vertices identified with the vertices of the barriers\n",
    "vertices_barrier = list(itertools.product(range(1000, 1000 + len(barriers)), range(2)))\n",
    "\n",
    "# Indices of the vertices identified with the targets\n",
    "vertices_target = list(itertools.product(range(-len(targets), 0), range(1)))\n",
    "vertices_target = vertices_target[::-1]\n",
    "\n"
   ]
  },
  {
   "cell_type": "code",
   "execution_count": 22,
   "metadata": {},
   "outputs": [
    {
     "name": "stdout",
     "output_type": "stream",
     "text": [
      "(3.6494518048726716, 3885.3003829870204)\n"
     ]
    }
   ],
   "source": [
    "determinantes = [af.determinant(barriers[0][0], sources[0].center, barriers[4][1]) for i in range(20)]\n",
    "\n",
    "L, U = eM.estima_M_alpha2(barriers[0][0], sources[0], barriers[4][1])\n",
    "\n",
    "print((L, U))"
   ]
  },
  {
   "cell_type": "code",
   "execution_count": null,
   "metadata": {},
   "outputs": [],
   "source": [
    "point_index = []\n",
    "\n",
    "for a, b in vertices_source+vertices_target:\n",
    "    for dim in range(2):\n",
    "        point_index.append((a, b, dim))\n",
    "\n",
    "\n",
    "model = gp.Model('Model: H-KMedian-N')\n",
    "\n",
    "point = model.addVars(point_index, vtype=GRB.CONTINUOUS, name='point')\n"
   ]
  }
 ],
 "metadata": {
  "kernelspec": {
   "display_name": "Python 3",
   "language": "python",
   "name": "python3"
  },
  "language_info": {
   "codemirror_mode": {
    "name": "ipython",
    "version": 3
   },
   "file_extension": ".py",
   "mimetype": "text/x-python",
   "name": "python",
   "nbconvert_exporter": "python",
   "pygments_lexer": "ipython3",
   "version": "3.9.2"
  }
 },
 "nbformat": 4,
 "nbformat_minor": 2
}
